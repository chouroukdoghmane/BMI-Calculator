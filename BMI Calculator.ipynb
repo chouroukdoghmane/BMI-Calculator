{
 "cells": [
  {
   "cell_type": "markdown",
   "id": "3d30111a-6231-4aa6-9f9a-1718228608ee",
   "metadata": {},
   "source": [
    "# BMI = weight in kg / (heigh in m * heigh in m)"
   ]
  },
  {
   "cell_type": "code",
   "execution_count": 81,
   "id": "a8c0fe54-8f2a-4a81-9833-f8951c5c25ac",
   "metadata": {},
   "outputs": [
    {
     "name": "stdin",
     "output_type": "stream",
     "text": [
      "Enter your name Chourouk\n",
      "Enter your weight in kg 60\n",
      "Enter your height in m 1.73\n"
     ]
    },
    {
     "name": "stdout",
     "output_type": "stream",
     "text": [
      "20.04744562130375\n",
      "Chourouk you're normal weight\n"
     ]
    }
   ],
   "source": [
    "name = input(\"Enter your name\")\n",
    "\n",
    "weight = int(input(\"Enter your weight in kg\"))\n",
    "\n",
    "height = float(input(\"Enter your height in m\"))\n",
    "\n",
    "BMI = (weight / (height * height))\n",
    "\n",
    "print(BMI)\n",
    "\n",
    "if BMI > 0:\n",
    "    if (BMI< 18.5):\n",
    "        print(name + \" you're underweight\")\n",
    "    elif(BMI<=24.9):\n",
    "        print(name + \" you're normal weight\")\n",
    "    elif(BMI<=29.9):\n",
    "        print(name + \" you're over weight\")\n",
    "    elif(BMI<=34.9):\n",
    "        print(name + \" you're obese weight\")\n",
    "    elif(BMI<=39.9):\n",
    "        print(name + \" you're severely obese weight\")\n",
    "    else:\n",
    "        print(name + \" you're morbidly obese weight\")"
   ]
  },
  {
   "cell_type": "code",
   "execution_count": null,
   "id": "f2d4e193-84de-441b-9811-46eccf411883",
   "metadata": {},
   "outputs": [],
   "source": []
  }
 ],
 "metadata": {
  "kernelspec": {
   "display_name": "Python 3 (ipykernel)",
   "language": "python",
   "name": "python3"
  },
  "language_info": {
   "codemirror_mode": {
    "name": "ipython",
    "version": 3
   },
   "file_extension": ".py",
   "mimetype": "text/x-python",
   "name": "python",
   "nbconvert_exporter": "python",
   "pygments_lexer": "ipython3",
   "version": "3.12.7"
  }
 },
 "nbformat": 4,
 "nbformat_minor": 5
}
